{
 "cells": [
  {
   "metadata": {},
   "cell_type": "code",
   "outputs": [],
   "execution_count": null,
   "source": "",
   "id": "f0a8489960ebba82"
  }
 ],
 "metadata": {},
 "nbformat": 4,
 "nbformat_minor": 5
}
